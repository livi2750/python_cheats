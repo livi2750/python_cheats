{
 "cells": [
  {
   "cell_type": "code",
   "execution_count": 21,
   "metadata": {
    "colab": {
     "base_uri": "https://localhost:8080/"
    },
    "executionInfo": {
     "elapsed": 361,
     "status": "ok",
     "timestamp": 1648222336408,
     "user": {
      "displayName": "abe",
      "photoUrl": "https://lh3.googleusercontent.com/a-/AOh14GiRpUCAlfTI6D7F0DALpt0_AK8xlpkyso8daYu6uw=s64",
      "userId": "15040988352313090258"
     },
     "user_tz": -480
    },
    "id": "uXoyt4xrnmnT",
    "outputId": "c207d163-f7e0-4934-fb65-d456f293d135"
   },
   "outputs": [
    {
     "name": "stdout",
     "output_type": "stream",
     "text": [
      "a message  for\n",
      "a message  Liv\n",
      "a message $$$Liv\n",
      "Liv 16\n",
      "Liv 16\n",
      "my baby Liv is 16\n",
      "Liv a message ! he's cool\n",
      "he is so \"cool\"\n",
      "he cool /\\\n",
      "he \n",
      "cool\n",
      "L\n",
      "iv\n"
     ]
    }
   ],
   "source": [
    "#codigs for printing\n",
    "\n",
    "msg='a message '\n",
    "name = 'Liv'\n",
    "months=16\n",
    "\n",
    "print(msg,'for') #add a string\n",
    "\n",
    "print(msg, name) #separated by space atomatically\n",
    "\n",
    "print (msg, name, sep='$$$') #use a separator instead of ' '(which is the default)\n",
    "\n",
    "print(name, months) #print a string and  number -all treated as objects just carefull when using maths\n",
    "\n",
    "print('%s %d' % (name, months)) #with place holder but same results %s for string %d for int/decimals \n",
    "print('my baby %s is %d' %(name,months)) #you can also do this\n",
    "\n",
    "print(name, msg, end='! ') #define an end character or string or what ever --default is newline /n\n",
    "\n",
    "#using back slashes\n",
    "\n",
    "print('he\\'s cool')       #you get '\n",
    "print('he is so \\\"cool\"') #you get \"cool\"\n",
    "print('he cool /\\\\')      #you get \\\n",
    "print('he \\ncool')       #you get new line\n",
    "\n",
    "#access by index\n",
    "print(name[0]) #think of strings as a sequence\n",
    "print(name[-2:])\n"
   ]
  },
  {
   "cell_type": "code",
   "execution_count": 4,
   "metadata": {
    "colab": {
     "base_uri": "https://localhost:8080/"
    },
    "executionInfo": {
     "elapsed": 319,
     "status": "ok",
     "timestamp": 1648225108168,
     "user": {
      "displayName": "abe",
      "photoUrl": "https://lh3.googleusercontent.com/a-/AOh14GiRpUCAlfTI6D7F0DALpt0_AK8xlpkyso8daYu6uw=s64",
      "userId": "15040988352313090258"
     },
     "user_tz": -480
    },
    "id": "WPJWL2D01BBF",
    "outputId": "3014be70-8961-4b5e-d7f5-0f25ce1fffdc"
   },
   "outputs": [
    {
     "name": "stdout",
     "output_type": "stream",
     "text": [
      "{'Ed': 'E', 'Ward': 'W', 'Liv': 'L', 'Cephe': 'C'}\n",
      "C E L W\n",
      "C**E**L**W\n",
      "{'Mercury': 'M', 'Venus': 'V', 'Earth': 'E'}\n"
     ]
    }
   ],
   "source": [
    "#dictionary\n",
    "name_list = ['Ed','Ward', 'Liv', 'Cephe']\n",
    "name_dict = {name: name[0] for name in name_list}\n",
    "\n",
    "\n",
    "print(name_dict)\n",
    "\n",
    "print(' '.join(sorted(name_dict.values()))) # list to a string delimited by space <- you can define:\n",
    "print('**'.join(sorted(name_dict.values())))\n",
    "\n",
    "close_planets = ['Mercury', 'Venus', 'Earth']\n",
    "planet_to_initial = {planet: planet[0] for planet in close_planets}\n",
    "print(planet_to_initial)"
   ]
  },
  {
   "cell_type": "code",
   "execution_count": null,
   "metadata": {},
   "outputs": [],
   "source": []
  }
 ],
 "metadata": {
  "colab": {
   "authorship_tag": "ABX9TyNJoP0JPM+PB+EuKKjmR7wm",
   "collapsed_sections": [],
   "name": "printMaster.ipynb",
   "provenance": []
  },
  "kernelspec": {
   "display_name": "Python 3 (ipykernel)",
   "language": "python",
   "name": "python3"
  },
  "language_info": {
   "codemirror_mode": {
    "name": "ipython",
    "version": 3
   },
   "file_extension": ".py",
   "mimetype": "text/x-python",
   "name": "python",
   "nbconvert_exporter": "python",
   "pygments_lexer": "ipython3",
   "version": "3.9.7"
  }
 },
 "nbformat": 4,
 "nbformat_minor": 1
}
