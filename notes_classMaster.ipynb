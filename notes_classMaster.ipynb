{
 "cells": [
  {
   "cell_type": "code",
   "execution_count": 1,
   "id": "86dd5c46",
   "metadata": {},
   "outputs": [],
   "source": [
    "#hmmmm....notes?\n",
    "\n",
    "class NameOfClass():\n",
    "    \n",
    "    #class attributes if there is\n",
    "    class_attribute1='value'\n",
    "    \n",
    "    #must have...initialization of your class\n",
    "    def __init__(self, param1, param2):\n",
    "        self.param1 = param1\n",
    "        self.param_myname = param2 #can call it anything you like but for \n",
    "                                   #better reading user passd param like param1\n",
    "        self.param3 = param1*2 #also ok! possible that it's not a passed param\n",
    "    \n",
    "    \n",
    "    def some_method(self):\n",
    "        #perform some action/s\n",
    "        print(self.param1)\n",
    "        \n",
    "#hmmm thats it!...haha"
   ]
  },
  {
   "cell_type": "code",
   "execution_count": 15,
   "id": "87707faa",
   "metadata": {},
   "outputs": [],
   "source": [
    "#just kidding sample actual here:\n",
    "\n",
    "class Circle():\n",
    "    \n",
    "    pi = 3.1416\n",
    "    \n",
    "    def __init__(self,radius=1):\n",
    "        self.radius = radius\n",
    "        self.area = self.radius * self.radius * Circle.pi   #notice how pi is called\n",
    "        \n",
    "    def get_circumference(self):\n",
    "        circ = 2* self.pi * self.radius   #notice how pi is called here also\n",
    "        return circ\n",
    "    \n",
    "    "
   ]
  },
  {
   "cell_type": "code",
   "execution_count": 18,
   "id": "dd4d64b6",
   "metadata": {},
   "outputs": [],
   "source": [
    "shape1 = Circle(3)\n"
   ]
  },
  {
   "cell_type": "code",
   "execution_count": 5,
   "id": "d374c715",
   "metadata": {},
   "outputs": [
    {
     "data": {
      "text/plain": [
       "__main__.Circle"
      ]
     },
     "execution_count": 5,
     "metadata": {},
     "output_type": "execute_result"
    }
   ],
   "source": [
    "type(shape1)"
   ]
  },
  {
   "cell_type": "code",
   "execution_count": 19,
   "id": "e37e22d4",
   "metadata": {},
   "outputs": [
    {
     "data": {
      "text/plain": [
       "18.8496"
      ]
     },
     "execution_count": 19,
     "metadata": {},
     "output_type": "execute_result"
    }
   ],
   "source": [
    "shape1.get_circumference()"
   ]
  },
  {
   "cell_type": "code",
   "execution_count": 20,
   "id": "8976d05f",
   "metadata": {},
   "outputs": [
    {
     "data": {
      "text/plain": [
       "28.2744"
      ]
     },
     "execution_count": 20,
     "metadata": {},
     "output_type": "execute_result"
    }
   ],
   "source": [
    "shape1.area"
   ]
  },
  {
   "cell_type": "code",
   "execution_count": null,
   "id": "afc808d1",
   "metadata": {},
   "outputs": [],
   "source": []
  }
 ],
 "metadata": {
  "kernelspec": {
   "display_name": "Python 3 (ipykernel)",
   "language": "python",
   "name": "python3"
  },
  "language_info": {
   "codemirror_mode": {
    "name": "ipython",
    "version": 3
   },
   "file_extension": ".py",
   "mimetype": "text/x-python",
   "name": "python",
   "nbconvert_exporter": "python",
   "pygments_lexer": "ipython3",
   "version": "3.9.7"
  }
 },
 "nbformat": 4,
 "nbformat_minor": 5
}
