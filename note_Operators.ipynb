{
 "cells": [
  {
   "cell_type": "code",
   "execution_count": 1,
   "metadata": {},
   "outputs": [
    {
     "data": {
      "text/plain": [
       "True"
      ]
     },
     "execution_count": 1,
     "metadata": {},
     "output_type": "execute_result"
    }
   ],
   "source": [
    "#chaining operators are allowed in python\n",
    "\n",
    "1 < 2 < 3 #True\n",
    "\n",
    "1<2 and 2<3 #True\n",
    "1 < 4 > 3 #True\n",
    "\n",
    "1==2 or 2<3 #True\n",
    "\n",
    "1==1 or 2==1 #True 1 condition only true needed in OR\n"
   ]
  },
  {
   "cell_type": "code",
   "execution_count": null,
   "metadata": {},
   "outputs": [],
   "source": [
    "#notable operations\n",
    "\n",
    "#enumerate - to note indexes\n",
    "word='pattern'\n",
    "for i,letter in enumerate(word):\n",
    "    print(f'this letter {letter} in index {i}')\n",
    "    \n",
    "#can also create list of tuples with index from word\n",
    "z=list(enumerate('pattern'))\n",
    "print(z)\n",
    "\n",
    "\n",
    "#zip - for zipping two list\n",
    "#create the above using zip\n",
    "z1 = [0,1,2,3,4,5,6]\n",
    "z2 = ['p','a','t','t','e','r','n']\n",
    "\n",
    "new_z = list(zip(z2,z1)) #note that arrangement of list passed is important\n",
    "print(new_z)\n",
    "\n",
    "\n",
    "#range - generate range from, to, step\n",
    "x=list(range(0,10)) #not including the to if you want to 10 add 1\n",
    "print(x)\n",
    "\n",
    "x2 = list(range(0,11,2)) #by two until 10\n",
    "print(x2)\n",
    "\n",
    "x3 = list(range(10)) #starts from 0 if not defined\n",
    "print(x3)\n",
    "\n",
    "#in and not in\n",
    "'z' in ['a','b','c'] #return False\n",
    "'z' not in ['a','b','c'] #return True\n",
    "\n",
    "#min and max - return smallest and largest from a list\n",
    "\n",
    "#shuffle - need to import from random shuffle your list\n",
    "from random import shuffle\n",
    "sample = shuffle(new_z)\n",
    "#see below\n",
    "\n"
   ]
  },
  {
   "cell_type": "code",
   "execution_count": 6,
   "metadata": {},
   "outputs": [],
   "source": [
    "sample = [(1,2),(2,3),(4,2)]"
   ]
  },
  {
   "cell_type": "code",
   "execution_count": 9,
   "metadata": {},
   "outputs": [
    {
     "data": {
      "text/plain": [
       "[(1, 2), (2, 3), (4, 2)]"
      ]
     },
     "execution_count": 9,
     "metadata": {},
     "output_type": "execute_result"
    }
   ],
   "source": [
    "shuffle(sample)\n",
    "sample"
   ]
  },
  {
   "cell_type": "code",
   "execution_count": 11,
   "metadata": {},
   "outputs": [
    {
     "name": "stdout",
     "output_type": "stream",
     "text": [
      "hi, what do you want to say today?hellow\n",
      "hellow\n"
     ]
    }
   ],
   "source": [
    "#input -accept user input\n",
    "\n",
    "z = input(\"hi, what do you want to say today?\")\n",
    "print(z)"
   ]
  },
  {
   "cell_type": "code",
   "execution_count": null,
   "metadata": {},
   "outputs": [],
   "source": []
  }
 ],
 "metadata": {
  "kernelspec": {
   "display_name": "Python 3 (ipykernel)",
   "language": "python",
   "name": "python3"
  },
  "language_info": {
   "codemirror_mode": {
    "name": "ipython",
    "version": 3
   },
   "file_extension": ".py",
   "mimetype": "text/x-python",
   "name": "python",
   "nbconvert_exporter": "python",
   "pygments_lexer": "ipython3",
   "version": "3.9.10+"
  }
 },
 "nbformat": 4,
 "nbformat_minor": 1
}
