{
 "cells": [
  {
   "cell_type": "code",
   "execution_count": 1,
   "id": "c5633771",
   "metadata": {},
   "outputs": [],
   "source": [
    "# this one first part i copied cause it's a good one"
   ]
  },
  {
   "cell_type": "code",
   "execution_count": 2,
   "id": "f25e0a17",
   "metadata": {},
   "outputs": [
    {
     "data": {
      "text/plain": [
       "{0: 0, 1: 1, 2: 4, 3: 9, 4: 16, 5: 25, 6: 36, 7: 49, 8: 64, 9: 81}"
      ]
     },
     "execution_count": 2,
     "metadata": {},
     "output_type": "execute_result"
    }
   ],
   "source": [
    "## Dictionary Comprehensions\n",
    "\n",
    "#Just like List Comprehensions, Dictionary Data Types also support their own version of comprehension for quick creation. \n",
    "#It is not as commonly used as List Comprehensions, but the syntax is:\n",
    "\n",
    "{x:x**2 for x in range(10)}\n",
    "\n",
    "#One of the reasons it is not as common is the difficulty in structuring key names that are not based off the values.\n"
   ]
  },
  {
   "cell_type": "code",
   "execution_count": 3,
   "id": "02ed3f58",
   "metadata": {},
   "outputs": [
    {
     "name": "stdout",
     "output_type": "stream",
     "text": [
      "k1\n",
      "k2\n",
      "1\n",
      "2\n",
      "('k1', 1)\n",
      "('k2', 2)\n"
     ]
    }
   ],
   "source": [
    "## Iteration over keys, values, and items\n",
    "#Dictionaries can be iterated over using the keys(), values() and items() methods. For example:\n",
    "\n",
    "d = {'k1':1,'k2':2}\n",
    "\n",
    "for k in d.keys():\n",
    "    print(k)\n",
    "\n",
    "for v in d.values():\n",
    "    print(v)\n",
    "\n",
    "for item in d.items():\n",
    "    print(item)\n"
   ]
  },
  {
   "cell_type": "code",
   "execution_count": 4,
   "id": "88ab3caf",
   "metadata": {},
   "outputs": [
    {
     "data": {
      "text/plain": [
       "dict_keys(['k1', 'k2', 'k3'])"
      ]
     },
     "execution_count": 4,
     "metadata": {},
     "output_type": "execute_result"
    }
   ],
   "source": [
    "# Viewing keys, values and items\n",
    "#By themselves the keys(), values() and items() methods return a dictionary *view object*. This is not a separate list of items. Instead, the view is always tied to the original dictionary.\n",
    "\n",
    "key_view = d.keys()\n",
    "\n",
    "key_view\n",
    "\n",
    "d['k3'] = 3\n",
    "\n",
    "d\n",
    "\n",
    "key_view"
   ]
  },
  {
   "cell_type": "code",
   "execution_count": null,
   "id": "e1b4871d",
   "metadata": {},
   "outputs": [],
   "source": []
  }
 ],
 "metadata": {
  "kernelspec": {
   "display_name": "Python 3 (ipykernel)",
   "language": "python",
   "name": "python3"
  },
  "language_info": {
   "codemirror_mode": {
    "name": "ipython",
    "version": 3
   },
   "file_extension": ".py",
   "mimetype": "text/x-python",
   "name": "python",
   "nbconvert_exporter": "python",
   "pygments_lexer": "ipython3",
   "version": "3.9.7"
  }
 },
 "nbformat": 4,
 "nbformat_minor": 5
}
