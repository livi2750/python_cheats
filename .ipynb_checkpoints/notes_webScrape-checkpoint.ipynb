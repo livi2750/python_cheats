{
 "cells": [
  {
   "cell_type": "code",
   "execution_count": 1,
   "id": "8543c58a",
   "metadata": {},
   "outputs": [],
   "source": [
    "# important note:\n",
    "# must have -request, bs4, lxml"
   ]
  },
  {
   "cell_type": "code",
   "execution_count": 5,
   "id": "ba065274",
   "metadata": {},
   "outputs": [],
   "source": [
    "# hmmm cycle? \n",
    "# - make request to a site...\n",
    "# - beautify using bs4 and lxml... DONE!\n",
    "# hmmm there is no one size fit all code in scraping..every site is diffrent\n",
    "# so CODE! haha\n",
    "\n",
    "#scrape this url TRY! http://books.toscrape.com/index.html\n",
    "\n",
    "import requests\n",
    "import bs4"
   ]
  },
  {
   "cell_type": "code",
   "execution_count": 6,
   "id": "97969ce7",
   "metadata": {},
   "outputs": [],
   "source": [
    "# make a request\n",
    "req = requests.get('http://books.toscrape.com/index.html')"
   ]
  },
  {
   "cell_type": "code",
   "execution_count": 7,
   "id": "8983410c",
   "metadata": {},
   "outputs": [
    {
     "data": {
      "text/plain": [
       "requests.models.Response"
      ]
     },
     "execution_count": 7,
     "metadata": {},
     "output_type": "execute_result"
    }
   ],
   "source": [
    "type(req)"
   ]
  },
  {
   "cell_type": "code",
   "execution_count": 8,
   "id": "e299a829",
   "metadata": {},
   "outputs": [],
   "source": [
    "#beautify so you can read easily\n",
    "soup = bs4.BeautifulSoup(req.text,'lxml')"
   ]
  },
  {
   "cell_type": "code",
   "execution_count": 10,
   "id": "af9755d4",
   "metadata": {},
   "outputs": [],
   "source": [
    "#soup"
   ]
  },
  {
   "cell_type": "code",
   "execution_count": 12,
   "id": "7a028f97",
   "metadata": {},
   "outputs": [],
   "source": [
    "product = soup.select('.product_pod')# for class use ."
   ]
  },
  {
   "cell_type": "code",
   "execution_count": 13,
   "id": "65f0c0ac",
   "metadata": {},
   "outputs": [],
   "source": [
    "sample_one = product[0]"
   ]
  },
  {
   "cell_type": "code",
   "execution_count": 14,
   "id": "c07f25e1",
   "metadata": {},
   "outputs": [
    {
     "data": {
      "text/plain": [
       "{'class': ['product_pod']}"
      ]
     },
     "execution_count": 14,
     "metadata": {},
     "output_type": "execute_result"
    }
   ],
   "source": [
    "sample_one.attrs"
   ]
  },
  {
   "cell_type": "code",
   "execution_count": 16,
   "id": "1a986e63",
   "metadata": {},
   "outputs": [
    {
     "data": {
      "text/plain": [
       "'A Light in the Attic'"
      ]
     },
     "execution_count": 16,
     "metadata": {},
     "output_type": "execute_result"
    }
   ],
   "source": [
    "# get a title of a sample product\n",
    "\n",
    "sample_one.select('a')[1]['title'] # a is the html tag, 1 is the number, title is the tag attribute"
   ]
  },
  {
   "cell_type": "code",
   "execution_count": null,
   "id": "839edb73",
   "metadata": {},
   "outputs": [],
   "source": [
    "# if you want to get all titles then loop...:P"
   ]
  }
 ],
 "metadata": {
  "kernelspec": {
   "display_name": "Python 3 (ipykernel)",
   "language": "python",
   "name": "python3"
  },
  "language_info": {
   "codemirror_mode": {
    "name": "ipython",
    "version": 3
   },
   "file_extension": ".py",
   "mimetype": "text/x-python",
   "name": "python",
   "nbconvert_exporter": "python",
   "pygments_lexer": "ipython3",
   "version": "3.9.7"
  }
 },
 "nbformat": 4,
 "nbformat_minor": 5
}
