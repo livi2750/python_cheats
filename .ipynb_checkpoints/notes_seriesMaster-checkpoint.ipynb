{
 "cells": [
  {
   "cell_type": "code",
   "execution_count": 1,
   "id": "e8552222",
   "metadata": {},
   "outputs": [],
   "source": [
    "#numpy and pandas\n",
    "\n",
    "import numpy as np\n",
    "import pandas as pd\n",
    "\n",
    "from pandas import Series, DataFrame\n"
   ]
  },
  {
   "cell_type": "code",
   "execution_count": 4,
   "id": "dac6fc18",
   "metadata": {},
   "outputs": [
    {
     "data": {
      "text/plain": [
       "0    1\n",
       "1    2\n",
       "2    3\n",
       "3    4\n",
       "4    5\n",
       "dtype: int64"
      ]
     },
     "execution_count": 4,
     "metadata": {},
     "output_type": "execute_result"
    }
   ],
   "source": [
    "#to create a series from a list\n",
    "\n",
    "s1 = Series([1,2,3,4,5])\n",
    "\n",
    "s1\n",
    "#on the left is the index and right values"
   ]
  },
  {
   "cell_type": "code",
   "execution_count": 5,
   "id": "015b2040",
   "metadata": {},
   "outputs": [
    {
     "data": {
      "text/plain": [
       "array([1, 2, 3, 4, 5], dtype=int64)"
      ]
     },
     "execution_count": 5,
     "metadata": {},
     "output_type": "execute_result"
    }
   ],
   "source": [
    "#so you can actually list values like this\n",
    "s1.values"
   ]
  },
  {
   "cell_type": "code",
   "execution_count": 6,
   "id": "f52a908b",
   "metadata": {},
   "outputs": [
    {
     "data": {
      "text/plain": [
       "RangeIndex(start=0, stop=5, step=1)"
      ]
     },
     "execution_count": 6,
     "metadata": {},
     "output_type": "execute_result"
    }
   ],
   "source": [
    "#and index like this\n",
    "s1.index"
   ]
  },
  {
   "cell_type": "code",
   "execution_count": 7,
   "id": "8e085e69",
   "metadata": {},
   "outputs": [
    {
     "data": {
      "text/plain": [
       "apple     20\n",
       "orange    25\n",
       "banana    26\n",
       "grape     12\n",
       "dtype: int64"
      ]
     },
     "execution_count": 7,
     "metadata": {},
     "output_type": "execute_result"
    }
   ],
   "source": [
    "#can you create a custom index? yes like this\n",
    "\n",
    "s2 = Series([20,25,26,12],['apple','orange','banana','grape'])\n",
    "s2"
   ]
  },
  {
   "cell_type": "code",
   "execution_count": 8,
   "id": "47e93e22",
   "metadata": {},
   "outputs": [
    {
     "data": {
      "text/plain": [
       "25"
      ]
     },
     "execution_count": 8,
     "metadata": {},
     "output_type": "execute_result"
    }
   ],
   "source": [
    "#to access the value via index\n",
    "s2['orange']"
   ]
  },
  {
   "cell_type": "code",
   "execution_count": 9,
   "id": "c427dab1",
   "metadata": {},
   "outputs": [
    {
     "data": {
      "text/plain": [
       "orange    25\n",
       "banana    26\n",
       "dtype: int64"
      ]
     },
     "execution_count": 9,
     "metadata": {},
     "output_type": "execute_result"
    }
   ],
   "source": [
    "#show values using operation\n",
    "s2[s2>20]"
   ]
  },
  {
   "cell_type": "code",
   "execution_count": 11,
   "id": "a0883341",
   "metadata": {},
   "outputs": [
    {
     "data": {
      "text/plain": [
       "{'apple': 20, 'orange': 25, 'banana': 26, 'grape': 12}"
      ]
     },
     "execution_count": 11,
     "metadata": {},
     "output_type": "execute_result"
    }
   ],
   "source": [
    "#since Series looks like a dictionary we can create dictionary from series\n",
    "dict_from_series = s2.to_dict()\n",
    "dict_from_series"
   ]
  },
  {
   "cell_type": "code",
   "execution_count": 13,
   "id": "f09cfd94",
   "metadata": {},
   "outputs": [
    {
     "data": {
      "text/plain": [
       "apple     20\n",
       "orange    25\n",
       "banana    26\n",
       "grape     12\n",
       "dtype: int64"
      ]
     },
     "execution_count": 13,
     "metadata": {},
     "output_type": "execute_result"
    }
   ],
   "source": [
    "#and vice versa\n",
    "series_from_dict = Series(dict_from_series)\n",
    "series_from_dict\n",
    "\n",
    "#and we get the orginal back"
   ]
  },
  {
   "cell_type": "code",
   "execution_count": null,
   "id": "e4ee65ba",
   "metadata": {},
   "outputs": [],
   "source": [
    "#notes important\n",
    "pd.isnull(s1) #checks for nulls in the series (boolean)\n",
    "pd.notnull(s1) #returns not nulls in the series (boolean)\n",
    "\n",
    "s2.name = \"Fruit Market\" #gives a name for the Series\n",
    "s2.index.name = \"Fruits\" #gives the index column a name"
   ]
  }
 ],
 "metadata": {
  "kernelspec": {
   "display_name": "Python 3 (ipykernel)",
   "language": "python",
   "name": "python3"
  },
  "language_info": {
   "codemirror_mode": {
    "name": "ipython",
    "version": 3
   },
   "file_extension": ".py",
   "mimetype": "text/x-python",
   "name": "python",
   "nbconvert_exporter": "python",
   "pygments_lexer": "ipython3",
   "version": "3.9.7"
  }
 },
 "nbformat": 4,
 "nbformat_minor": 5
}
