{
 "cells": [
  {
   "cell_type": "code",
   "execution_count": 1,
   "id": "7bc63daf",
   "metadata": {},
   "outputs": [],
   "source": [
    "#hmmmm....notes?\n",
    "\n",
    "class NameOfClass():\n",
    "    \n",
    "    #class attributes if there is\n",
    "    class_attribute1='value'\n",
    "    \n",
    "    #must have...initialization of your class\n",
    "    def __init__(self, param1, param2):\n",
    "        self.param1 = param1\n",
    "        self.param_myname = param2 #can call it anything you like but for \n",
    "                                   #better reading user passd param like param1\n",
    "        self.param3 = param1*2 #also ok! possible that it's not a passed param\n",
    "    \n",
    "    \n",
    "    def some_method(self):\n",
    "        #perform some action/s\n",
    "        print(self.param1)\n",
    "        \n",
    "#hmmm thats it!...haha"
   ]
  },
  {
   "cell_type": "code",
   "execution_count": 2,
   "id": "7b7bba5b",
   "metadata": {},
   "outputs": [],
   "source": [
    "#just kidding sample actual here"
   ]
  },
  {
   "cell_type": "code",
   "execution_count": null,
   "id": "dfd44a46",
   "metadata": {},
   "outputs": [],
   "source": []
  }
 ],
 "metadata": {
  "kernelspec": {
   "display_name": "Python 3 (ipykernel)",
   "language": "python",
   "name": "python3"
  },
  "language_info": {
   "codemirror_mode": {
    "name": "ipython",
    "version": 3
   },
   "file_extension": ".py",
   "mimetype": "text/x-python",
   "name": "python",
   "nbconvert_exporter": "python",
   "pygments_lexer": "ipython3",
   "version": "3.9.7"
  }
 },
 "nbformat": 4,
 "nbformat_minor": 5
}
