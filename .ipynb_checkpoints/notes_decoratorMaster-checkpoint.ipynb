{
 "cells": [
  {
   "cell_type": "code",
   "execution_count": 3,
   "id": "efa6cf7d",
   "metadata": {},
   "outputs": [],
   "source": [
    "#Decorators can be thought of as functions which modify the functionality of another function\n",
    "\n",
    "#function returning a function\n",
    "\n",
    "def greet(name='Ben'):\n",
    "    \n",
    "    def hello():\n",
    "        return f'hello {name} from hello fucntion'\n",
    "    \n",
    "    def welcome():\n",
    "        return f'welcome {name} from welcome function'\n",
    "    \n",
    "    if name == 'Eddie':\n",
    "        return hello\n",
    "    else:\n",
    "        return welcome"
   ]
  },
  {
   "cell_type": "code",
   "execution_count": 5,
   "id": "fe96d99f",
   "metadata": {},
   "outputs": [],
   "source": [
    "z = greet()"
   ]
  },
  {
   "cell_type": "code",
   "execution_count": 7,
   "id": "04062452",
   "metadata": {},
   "outputs": [
    {
     "name": "stdout",
     "output_type": "stream",
     "text": [
      "welcome Ben from welcome function\n"
     ]
    }
   ],
   "source": [
    "print(z())"
   ]
  },
  {
   "cell_type": "code",
   "execution_count": 8,
   "id": "3ac8d701",
   "metadata": {},
   "outputs": [
    {
     "name": "stdout",
     "output_type": "stream",
     "text": [
      "hello Eddie from hello fucntion\n"
     ]
    }
   ],
   "source": [
    "x = greet('Eddie')\n",
    "print(x())"
   ]
  },
  {
   "cell_type": "code",
   "execution_count": 9,
   "id": "1de20190",
   "metadata": {},
   "outputs": [],
   "source": [
    "#Creating a decorator let's use the two functions\n",
    "\n",
    "def the_decorator(func):\n",
    "\n",
    "    def wrap_func():\n",
    "        print(\"Code would be here, before executing the func\")\n",
    "\n",
    "        func()\n",
    "\n",
    "        print(\"Code here will execute after the func()\")\n",
    "\n",
    "    return wrap_func\n",
    "\n",
    "def func_needs_decorator():\n",
    "    print(\"This function is in need of a Decorator\")"
   ]
  },
  {
   "cell_type": "code",
   "execution_count": 11,
   "id": "39950c4f",
   "metadata": {},
   "outputs": [
    {
     "name": "stdout",
     "output_type": "stream",
     "text": [
      "This function is in need of a Decorator\n"
     ]
    }
   ],
   "source": [
    "func_needs_decorator()"
   ]
  },
  {
   "cell_type": "code",
   "execution_count": 13,
   "id": "735ec256",
   "metadata": {},
   "outputs": [],
   "source": [
    "# Reassign func_needs_decorator\n",
    "func_needs_decorator = the_decorator(func_needs_decorator)"
   ]
  },
  {
   "cell_type": "code",
   "execution_count": 14,
   "id": "0e08ea57",
   "metadata": {},
   "outputs": [
    {
     "name": "stdout",
     "output_type": "stream",
     "text": [
      "Code would be here, before executing the func\n",
      "This function is in need of a Decorator\n",
      "Code here will execute after the func()\n"
     ]
    }
   ],
   "source": [
    "func_needs_decorator()"
   ]
  },
  {
   "cell_type": "code",
   "execution_count": 15,
   "id": "da364385",
   "metadata": {},
   "outputs": [],
   "source": [
    "#Using the @ symbol this time\n",
    "@the_decorator\n",
    "def func_needs_decorator():\n",
    "    print(\"This function is in need of a Decorator\")"
   ]
  },
  {
   "cell_type": "code",
   "execution_count": 16,
   "id": "da303232",
   "metadata": {},
   "outputs": [
    {
     "name": "stdout",
     "output_type": "stream",
     "text": [
      "Code would be here, before executing the func\n",
      "This function is in need of a Decorator\n",
      "Code here will execute after the func()\n"
     ]
    }
   ],
   "source": [
    "func_needs_decorator()"
   ]
  },
  {
   "cell_type": "code",
   "execution_count": null,
   "id": "774d16de",
   "metadata": {},
   "outputs": [],
   "source": [
    "# see we get the same results"
   ]
  }
 ],
 "metadata": {
  "kernelspec": {
   "display_name": "Python 3 (ipykernel)",
   "language": "python",
   "name": "python3"
  },
  "language_info": {
   "codemirror_mode": {
    "name": "ipython",
    "version": 3
   },
   "file_extension": ".py",
   "mimetype": "text/x-python",
   "name": "python",
   "nbconvert_exporter": "python",
   "pygments_lexer": "ipython3",
   "version": "3.9.7"
  }
 },
 "nbformat": 4,
 "nbformat_minor": 5
}
