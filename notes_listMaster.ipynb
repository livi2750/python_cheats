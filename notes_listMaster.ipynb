{
 "cells": [
  {
   "cell_type": "code",
   "execution_count": 23,
   "id": "53725c2b",
   "metadata": {},
   "outputs": [
    {
     "name": "stdout",
     "output_type": "stream",
     "text": [
      "1\n"
     ]
    }
   ],
   "source": [
    "#list list list\n",
    "\n",
    "my_list = [2,3,2]\n",
    "print(my_list.index(3)) #use index to know index of an item in a list "
   ]
  },
  {
   "cell_type": "code",
   "execution_count": 5,
   "id": "7d0c52ff",
   "metadata": {},
   "outputs": [
    {
     "name": "stdout",
     "output_type": "stream",
     "text": [
      "[2, 3, 2, 4]\n"
     ]
    }
   ],
   "source": [
    "#to append\n",
    "my_list.append(4)\n",
    "print(my_list)"
   ]
  },
  {
   "cell_type": "code",
   "execution_count": 8,
   "id": "9f3b8677",
   "metadata": {},
   "outputs": [
    {
     "name": "stdout",
     "output_type": "stream",
     "text": [
      "[2, 3, 2, [5, 6]]\n"
     ]
    }
   ],
   "source": [
    "# if you want to add ITEMS form a list to another list \n",
    "my_list = [2,3,2]\n",
    "x = [5,6]\n",
    "my_list.append(x)\n",
    "print(my_list)\n"
   ]
  },
  {
   "cell_type": "code",
   "execution_count": 10,
   "id": "fd92c589",
   "metadata": {},
   "outputs": [
    {
     "name": "stdout",
     "output_type": "stream",
     "text": [
      "[2, 3, 2, 5, 6]\n"
     ]
    }
   ],
   "source": [
    "#remeber items in a list\n",
    "#DON'T append \n",
    "# use extend...watch\n",
    "my_list = [2,3,2]\n",
    "x = [5,6]\n",
    "my_list.extend(x)\n",
    "print(my_list)"
   ]
  },
  {
   "cell_type": "code",
   "execution_count": 11,
   "id": "0a29255c",
   "metadata": {},
   "outputs": [
    {
     "name": "stdout",
     "output_type": "stream",
     "text": [
      "[2, 3, 2, 'im in', 5, 6]\n"
     ]
    }
   ],
   "source": [
    "#insert into a list - to an index you want to insert to\n",
    "my_list.insert(3,'im in') \n",
    "print(my_list)"
   ]
  },
  {
   "cell_type": "code",
   "execution_count": 12,
   "id": "6a1a13b9",
   "metadata": {},
   "outputs": [
    {
     "data": {
      "text/plain": [
       "6"
      ]
     },
     "execution_count": 12,
     "metadata": {},
     "output_type": "execute_result"
    }
   ],
   "source": [
    "# to remove you can use \"remove\" of \"pop\" if from end of list\n",
    "my_list.pop() #6 goes out"
   ]
  },
  {
   "cell_type": "code",
   "execution_count": 13,
   "id": "91e08d2b",
   "metadata": {},
   "outputs": [
    {
     "name": "stdout",
     "output_type": "stream",
     "text": [
      "[2, 2, 'im in', 5]\n"
     ]
    }
   ],
   "source": [
    "#or remove by item\n",
    "my_list.remove(3) #not index 3 but item 3\n",
    "print(my_list)\n"
   ]
  },
  {
   "cell_type": "code",
   "execution_count": 15,
   "id": "e189a39a",
   "metadata": {},
   "outputs": [],
   "source": [
    "# to revese a list use\n",
    "my_list.reverse()\n",
    "print(my_list)"
   ]
  },
  {
   "cell_type": "code",
   "execution_count": 19,
   "id": "4272ddc7",
   "metadata": {},
   "outputs": [],
   "source": [
    "# to sort then\n",
    "my_list.remove('im in') #make sure ints only or strings only on list\n",
    "my_list.sort()\n",
    "print(my_list)"
   ]
  },
  {
   "cell_type": "code",
   "execution_count": 22,
   "id": "9e723be4",
   "metadata": {},
   "outputs": [
    {
     "name": "stdout",
     "output_type": "stream",
     "text": [
      "[2, 2, 5]\n",
      "[2, 2, 5, 29]\n"
     ]
    }
   ],
   "source": [
    "# to not affect the list use a copy\n",
    "copy = my_list.copy()\n",
    "copy.append(29) #modify copy\n",
    "print(my_list) #no changes to my_list\n",
    "print(copy) "
   ]
  },
  {
   "cell_type": "code",
   "execution_count": null,
   "id": "8ca49dda",
   "metadata": {},
   "outputs": [],
   "source": []
  }
 ],
 "metadata": {
  "kernelspec": {
   "display_name": "Python 3 (ipykernel)",
   "language": "python",
   "name": "python3"
  },
  "language_info": {
   "codemirror_mode": {
    "name": "ipython",
    "version": 3
   },
   "file_extension": ".py",
   "mimetype": "text/x-python",
   "name": "python",
   "nbconvert_exporter": "python",
   "pygments_lexer": "ipython3",
   "version": "3.9.7"
  }
 },
 "nbformat": 4,
 "nbformat_minor": 5
}
